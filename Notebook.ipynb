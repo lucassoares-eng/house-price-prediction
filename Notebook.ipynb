{
 "cells": [
  {
   "cell_type": "code",
   "execution_count": 69,
   "id": "22088860-f14b-40ec-b7ee-1936a3dc574f",
   "metadata": {},
   "outputs": [],
   "source": [
    "import os\n",
    "import json\n",
    "import joblib\n",
    "import pandas as pd\n",
    "import numpy as np\n",
    "from sklearn.model_selection import train_test_split\n",
    "from sklearn.linear_model import LinearRegression, Ridge, Lasso\n",
    "from sklearn.tree import DecisionTreeRegressor\n",
    "from sklearn.ensemble import RandomForestRegressor, GradientBoostingRegressor\n",
    "from sklearn.svm import SVR\n",
    "from sklearn.metrics import mean_absolute_error\n",
    "from xgboost import XGBRegressor\n",
    "from lightgbm import LGBMRegressor\n",
    "from tensorflow.keras.models import Sequential\n",
    "from tensorflow.keras.layers import Dense, Input\n",
    "from tensorflow.keras.optimizers import Adam\n",
    "from tensorflow.keras.callbacks import EarlyStopping\n",
    "import matplotlib.pyplot as plt\n",
    "import seaborn as sns"
   ]
  },
  {
   "cell_type": "code",
   "execution_count": 70,
   "id": "bdd5bbad-aed0-4eee-b477-865b5cb7fa43",
   "metadata": {},
   "outputs": [],
   "source": [
    "def load_data(filepath):\n",
    "    \"\"\"Load the dataset from a CSV file.\"\"\"\n",
    "    return pd.read_csv(filepath)"
   ]
  },
  {
   "cell_type": "code",
   "execution_count": 71,
   "id": "325ed1a1-88dc-4803-9c9e-7315bd91f563",
   "metadata": {},
   "outputs": [],
   "source": [
    "def preprocess_data(df):\n",
    "    \"\"\"Preprocess the dataset.\"\"\"\n",
    "    df = df.dropna(subset=['SalePrice'])\n",
    "    numeric_cols = df.select_dtypes(include=np.number).columns\n",
    "    df[numeric_cols] = df[numeric_cols].fillna(0)\n",
    "    categorical_cols = df.select_dtypes(include='object').columns\n",
    "    for col in categorical_cols:\n",
    "        df[col].fillna('None', inplace=True)\n",
    "    df = pd.get_dummies(df, columns=categorical_cols, drop_first=True)\n",
    "    return df"
   ]
  },
  {
   "cell_type": "code",
   "execution_count": 72,
   "id": "3aba9a2b-780e-4d03-9eb9-319be8f39e27",
   "metadata": {},
   "outputs": [],
   "source": [
    "def split_data(df, target='SalePrice'):\n",
    "    \"\"\"Split the dataset.\"\"\"\n",
    "    X = df.drop(columns=[target])\n",
    "    y = df[target]\n",
    "    return train_test_split(X, y, test_size=0.2, random_state=42)"
   ]
  },
  {
   "cell_type": "code",
   "execution_count": 73,
   "id": "0e4c043f-ec0f-410a-a1da-b48e69833c9c",
   "metadata": {},
   "outputs": [],
   "source": [
    "def evaluate_model(model, X_test, y_test, model_name=\"Model\"):\n",
    "    \"\"\"\n",
    "    Evaluate a model and calculate RMSE manually.\n",
    "    \"\"\"\n",
    "    predictions = model.predict(X_test)\n",
    "    \n",
    "    # Calculate RMSE manually\n",
    "    mse = np.mean((y_test - predictions) ** 2)\n",
    "    rmse = np.sqrt(mse)\n",
    "    \n",
    "    # Calculate MAE\n",
    "    mae = mean_absolute_error(y_test, predictions)\n",
    "    \n",
    "    save_plot_results(y_test, predictions, model_name)\n",
    "    \n",
    "    return rmse, mae, predictions"
   ]
  },
  {
   "cell_type": "code",
   "execution_count": 74,
   "id": "d7ac0b4b-51fa-4a5e-bc59-b9762728656c",
   "metadata": {},
   "outputs": [],
   "source": [
    "def save_plot_results(y_test, predictions, model_name=\"Model\"):\n",
    "    \"\"\"Plot actual vs predicted.\"\"\"\n",
    "    plt.figure(figsize=(8, 6))\n",
    "    sns.scatterplot(x=y_test, y=predictions, alpha=0.6)\n",
    "    plt.plot([y_test.min(), y_test.max()], [y_test.min(), y_test.max()], 'r--')\n",
    "    plt.title(f\"Actual vs Predicted: {model_name}\")\n",
    "    plt.xlabel(\"Actual Prices\")\n",
    "    plt.ylabel(\"Predicted Prices\")\n",
    "    file_path = f'reports/{model_name}_actual_vs_predicted.png'\n",
    "    if not os.path.exists('reports'):\n",
    "        os.makedirs('reports')\n",
    "    plt.savefig(file_path)\n",
    "    plt.close()\n",
    "    print(f\"The scatter plot of {model_name} results has been successfully saved in the 'reports' folder\")"
   ]
  },
  {
   "cell_type": "code",
   "execution_count": 75,
   "id": "c10f2c50-dc6f-415b-a927-a8c914ed9008",
   "metadata": {},
   "outputs": [],
   "source": [
    "    # Load and preprocess the dataset\n",
    "    file_path = \"data/house_prices.csv\"\n",
    "    data = load_data(file_path)\n",
    "    data = preprocess_data(data.copy())\n",
    "    X_train, X_test, y_train, y_test = split_data(data)"
   ]
  },
  {
   "cell_type": "code",
   "execution_count": 76,
   "id": "af5ca124-7123-43ce-a0a2-1133f56d747d",
   "metadata": {},
   "outputs": [],
   "source": [
    "    # List of models\n",
    "    models = {\n",
    "        \"Linear Regression\": LinearRegression(),\n",
    "        \"Ridge Regression\": Ridge(alpha=1.0),\n",
    "        \"Lasso Regression\": Lasso(alpha=10.0, max_iter=5000),\n",
    "        \"Decision Tree\": DecisionTreeRegressor(max_depth=10),\n",
    "        \"Random Forest\": RandomForestRegressor(n_estimators=100, random_state=42),\n",
    "        \"Gradient Boosting\": GradientBoostingRegressor(n_estimators=100, random_state=42),\n",
    "        \"XGBoost\": XGBRegressor(n_estimators=100, random_state=42),\n",
    "        \"LightGBM\": LGBMRegressor(n_estimators=100, random_state=42, force_row_wise=True),\n",
    "        \"SVR\": SVR(kernel='rbf', C=100)\n",
    "    }"
   ]
  },
  {
   "cell_type": "code",
   "execution_count": 77,
   "id": "a4571543-1675-4a09-addf-e35eae8fce7f",
   "metadata": {},
   "outputs": [
    {
     "name": "stdout",
     "output_type": "stream",
     "text": [
      "\n",
      "Training Linear Regression...\n",
      "The scatter plot of Linear Regression results has been successfully saved in the 'reports' folder\n",
      "\n",
      "Training Ridge Regression...\n",
      "The scatter plot of Ridge Regression results has been successfully saved in the 'reports' folder\n",
      "\n",
      "Training Lasso Regression...\n",
      "The scatter plot of Lasso Regression results has been successfully saved in the 'reports' folder\n",
      "\n",
      "Training Decision Tree...\n",
      "The scatter plot of Decision Tree results has been successfully saved in the 'reports' folder\n",
      "\n",
      "Training Random Forest...\n",
      "The scatter plot of Random Forest results has been successfully saved in the 'reports' folder\n",
      "\n",
      "Training Gradient Boosting...\n",
      "The scatter plot of Gradient Boosting results has been successfully saved in the 'reports' folder\n",
      "\n",
      "Training XGBoost...\n",
      "The scatter plot of XGBoost results has been successfully saved in the 'reports' folder\n",
      "\n",
      "Training LightGBM...\n",
      "[LightGBM] [Info] Total Bins 1848\n",
      "[LightGBM] [Info] Number of data points in the train set: 1168, number of used features: 67\n",
      "[LightGBM] [Info] Start training from score 181441.541952\n",
      "The scatter plot of LightGBM results has been successfully saved in the 'reports' folder\n",
      "\n",
      "Training SVR...\n",
      "The scatter plot of SVR results has been successfully saved in the 'reports' folder\n"
     ]
    }
   ],
   "source": [
    "    # Train and evaluate traditional models\n",
    "    results = {}\n",
    "    model_instances = {}\n",
    "    for name, model in models.items():\n",
    "        print(f\"\\nTraining {name}...\")\n",
    "        model.fit(X_train, y_train)\n",
    "        rmse, mae, predictions = evaluate_model(model, X_test, y_test, model_name=name)\n",
    "        results[name] = rmse\n",
    "        model_instances[name] = model"
   ]
  },
  {
   "cell_type": "code",
   "execution_count": 78,
   "id": "eea910f9-d2b4-4114-aee3-def645ae71e5",
   "metadata": {},
   "outputs": [
    {
     "name": "stdout",
     "output_type": "stream",
     "text": [
      "\n",
      "Training Neural Network...\n",
      "\u001b[1m10/10\u001b[0m \u001b[32m━━━━━━━━━━━━━━━━━━━━\u001b[0m\u001b[37m\u001b[0m \u001b[1m0s\u001b[0m 4ms/step \n",
      "The scatter plot of Neural Network results has been successfully saved in the 'reports' folder\n"
     ]
    }
   ],
   "source": [
    "    # Neural Network\n",
    "    print(\"\\nTraining Neural Network...\")\n",
    "    input_dim = X_train.shape[1]\n",
    "    nn = Sequential([\n",
    "        Input(shape=(input_dim,)),\n",
    "        Dense(128, activation='relu'),\n",
    "        Dense(64, activation='relu'),\n",
    "        Dense(1)\n",
    "    ])\n",
    "    nn.compile(optimizer=Adam(learning_rate=0.001), loss='mse', metrics=['mae'])\n",
    "    early_stopping = EarlyStopping(monitor='val_loss', patience=10, restore_best_weights=True)\n",
    "    nn.fit(X_train, y_train, validation_data=(X_test, y_test), epochs=100, batch_size=32, callbacks=[early_stopping], verbose=0)\n",
    "    nn_predictions = nn.predict(X_test).flatten()\n",
    "    # RMSE calculation for Neural Network\n",
    "    nn_mse = np.mean((y_test - nn_predictions) ** 2)\n",
    "    nn_rmse = np.sqrt(nn_mse)\n",
    "    nn_mae = mean_absolute_error(y_test, nn_predictions)\n",
    "    results[\"Neural Network\"] = nn_rmse\n",
    "    model_instances[\"Neural Network\"] = nn\n",
    "    save_plot_results(y_test, nn_predictions, model_name=\"Neural Network\")"
   ]
  },
  {
   "cell_type": "code",
   "execution_count": 79,
   "id": "8e8725f8-a20a-4124-9e83-ec3848fcc68b",
   "metadata": {},
   "outputs": [
    {
     "name": "stdout",
     "output_type": "stream",
     "text": [
      "\n",
      "Summary of Results:\n",
      "===================================\n",
      "Linear Regression: RMSE = 39028.0612\n",
      "Ridge Regression: RMSE = 35281.5808\n",
      "Lasso Regression: RMSE = 38581.1079\n",
      "Decision Tree: RMSE = 38714.9745\n",
      "Random Forest: RMSE = 29785.0590\n",
      "Gradient Boosting: RMSE = 27580.5181\n",
      "XGBoost: RMSE = 27953.1538\n",
      "LightGBM: RMSE = 30486.1070\n",
      "SVR: RMSE = 87432.5748\n",
      "Neural Network: RMSE = 45637.9517\n",
      "\n",
      "Best Model (Lowest RMSE):\n",
      "Gradient Boosting: RMSE = 27580.5181\n",
      "\n",
      "Best model information saved to reports/best_model.json\n",
      "\n",
      "Best model saved to models/best_model.pkl\n"
     ]
    }
   ],
   "source": [
    "    # Summary of results\n",
    "    best_model = min(results, key=results.get)\n",
    "    print(\"\\nSummary of Results:\")\n",
    "    print(\"===================================\")\n",
    "    for model_name, rmse in results.items():\n",
    "        print(f\"{model_name}: RMSE = {rmse:.4f}\")\n",
    "    print(\"\\nBest Model (Lowest RMSE):\")\n",
    "    print(f\"{best_model}: RMSE = {results[best_model]:.4f}\")\n",
    "\n",
    "    # Save best model information to a JSON file\n",
    "    best_model_info = {\n",
    "        \"model_name\": best_model,\n",
    "        \"rmse\": results[best_model]\n",
    "    }\n",
    "    output_file = \"reports/best_model.json\"\n",
    "    if not os.path.exists('reports'):\n",
    "        os.makedirs('reports')\n",
    "    with open(output_file, \"w\") as f:\n",
    "        json.dump(best_model_info, f, indent=4)\n",
    "    print(f\"\\nBest model information saved to {output_file}\")\n",
    "\n",
    "    # Save the best model\n",
    "    best_model_instance = model_instances[best_model]\n",
    "    model_file = \"models/best_model.pkl\"\n",
    "    if not os.path.exists('models'):\n",
    "        os.makedirs('models')\n",
    "    joblib.dump(best_model_instance, model_file)\n",
    "    print(f\"\\nBest model saved to {model_file}\")"
   ]
  }
 ],
 "metadata": {
  "kernelspec": {
   "display_name": "Python 3 (ipykernel)",
   "language": "python",
   "name": "python3"
  },
  "language_info": {
   "codemirror_mode": {
    "name": "ipython",
    "version": 3
   },
   "file_extension": ".py",
   "mimetype": "text/x-python",
   "name": "python",
   "nbconvert_exporter": "python",
   "pygments_lexer": "ipython3",
   "version": "3.12.0"
  }
 },
 "nbformat": 4,
 "nbformat_minor": 5
}
